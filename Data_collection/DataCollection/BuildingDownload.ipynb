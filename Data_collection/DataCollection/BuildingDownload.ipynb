{
 "cells": [
  {
   "cell_type": "code",
   "execution_count": 1,
   "id": "ddf6662d",
   "metadata": {},
   "outputs": [
    {
     "name": "stderr",
     "output_type": "stream",
     "text": [
      "C:\\Users\\edoar\\AppData\\Local\\Temp\\ipykernel_29668\\2950509256.py:4: FutureWarning: WKBReadingError is deprecated and will be removed in a future version. Use ShapelyError instead (functions previously raising {name} will now raise a ShapelyError instead).\n",
      "  from shapely.errors import WKBReadingError\n"
     ]
    },
    {
     "data": {
      "text/plain": [
       "<_duckdb.DuckDBPyConnection at 0x20e4b860ab0>"
      ]
     },
     "execution_count": 1,
     "metadata": {},
     "output_type": "execute_result"
    }
   ],
   "source": [
    "import duckdb\n",
    "import geopandas as gpd\n",
    "import shapely\n",
    "from shapely.errors import WKBReadingError\n",
    "\n",
    "# Connect to DuckDB\n",
    "con = duckdb.connect()\n",
    "con.execute(\"INSTALL spatial;\")\n",
    "con.execute(\"LOAD spatial;\")\n",
    "con.execute(\"INSTALL httpfs;\")\n",
    "con.execute(\"LOAD httpfs;\")\n"
   ]
  },
  {
   "cell_type": "code",
   "execution_count": 2,
   "id": "6b57348b",
   "metadata": {},
   "outputs": [],
   "source": [
    "\n",
    "# Define bbox\n",
    "minx, miny, maxx, maxy = 2.321001, 48.837379, 2.373657, 48.870248"
   ]
  },
  {
   "cell_type": "code",
   "execution_count": 3,
   "id": "5f0310fc",
   "metadata": {},
   "outputs": [
    {
     "data": {
      "application/vnd.jupyter.widget-view+json": {
       "model_id": "55658698159c41329c63095eb324f709",
       "version_major": 2,
       "version_minor": 0
      },
      "text/plain": [
       "FloatProgress(value=0.0, layout=Layout(width='auto'), style=ProgressStyle(bar_color='black'))"
      ]
     },
     "metadata": {},
     "output_type": "display_data"
    }
   ],
   "source": [
    "df = con.execute(f\"\"\"\n",
    "    SELECT *, ST_AsText(geometry) AS wkt_geom\n",
    "    FROM read_parquet('https://data.source.coop/vida/google-microsoft-osm-open-buildings/geoparquet/by_country/country_iso=FRA/FRA.parquet')\n",
    "    WHERE ST_Within(\n",
    "        geometry,\n",
    "        ST_MakeEnvelope({minx}, {miny}, {maxx}, {maxy})\n",
    "    )\n",
    "\"\"\").df()\n",
    "\n",
    "import shapely.wkt\n",
    "df[\"geometry\"] = df[\"wkt_geom\"].apply(shapely.wkt.loads)\n",
    "gdf = gpd.GeoDataFrame(df, geometry=\"geometry\", crs=\"EPSG:4326\")"
   ]
  },
  {
   "cell_type": "code",
   "execution_count": 4,
   "id": "cadcbb41",
   "metadata": {},
   "outputs": [],
   "source": [
    "# Save as GeoJSON\n",
    "gdf.to_file(\"fra_buildings4.geojson\", driver=\"GeoJSON\")\n",
    "\n",
    "# Load again if needed\n",
    "gdf2 = gpd.read_file(\"fra_buildings.geojson\")"
   ]
  }
 ],
 "metadata": {
  "kernelspec": {
   "display_name": "geoSoftware",
   "language": "python",
   "name": "python3"
  },
  "language_info": {
   "codemirror_mode": {
    "name": "ipython",
    "version": 3
   },
   "file_extension": ".py",
   "mimetype": "text/x-python",
   "name": "python",
   "nbconvert_exporter": "python",
   "pygments_lexer": "ipython3",
   "version": "3.12.7"
  }
 },
 "nbformat": 4,
 "nbformat_minor": 5
}
